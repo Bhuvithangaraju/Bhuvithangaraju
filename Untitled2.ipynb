{
  "nbformat": 4,
  "nbformat_minor": 0,
  "metadata": {
    "colab": {
      "provenance": [],
      "authorship_tag": "ABX9TyPOUNAehXGFksKKaBh/IwIx",
      "include_colab_link": true
    },
    "kernelspec": {
      "name": "python3",
      "display_name": "Python 3"
    },
    "language_info": {
      "name": "python"
    }
  },
  "cells": [
    {
      "cell_type": "markdown",
      "metadata": {
        "id": "view-in-github",
        "colab_type": "text"
      },
      "source": [
        "<a href=\"https://colab.research.google.com/github/Bhuvithangaraju/Bhuvithangaraju/blob/main/Untitled2.ipynb\" target=\"_parent\"><img src=\"https://colab.research.google.com/assets/colab-badge.svg\" alt=\"Open In Colab\"/></a>"
      ]
    },
    {
      "cell_type": "code",
      "execution_count": 1,
      "metadata": {
        "colab": {
          "base_uri": "https://localhost:8080/",
          "height": 621
        },
        "id": "N-9PYTi8HEnK",
        "outputId": "dda2f4fe-3971-4f79-e602-2c1a9bf9e68d"
      },
      "outputs": [
        {
          "output_type": "stream",
          "name": "stderr",
          "text": [
            "<ipython-input-1-c6d35445dc7e>:5: UserWarning: \n",
            "\n",
            "`distplot` is a deprecated function and will be removed in seaborn v0.14.0.\n",
            "\n",
            "Please adapt your code to use either `displot` (a figure-level function with\n",
            "similar flexibility) or `histplot` (an axes-level function for histograms).\n",
            "\n",
            "For a guide to updating your code to use the new functions, please see\n",
            "https://gist.github.com/mwaskom/de44147ed2974457ad6372750bbe5751\n",
            "\n",
            "  sns.distplot(random.binomial(n=10, p=0.5, size=1000), hist=True, kde=False)\n"
          ]
        },
        {
          "output_type": "display_data",
          "data": {
            "text/plain": [
              "<Figure size 640x480 with 1 Axes>"
            ],
            "image/png": "[encoded data removed]"
          },
          "metadata": {}
        }
      ],
      "source": [
        "from numpy import random\n",
        "import matplotlib.pyplot as plt\n",
        "import seaborn as sns\n",
        "\n",
        "sns.distplot(random.binomial(n=10, p=0.5, size=1000), hist=True, kde=False)\n",
        "\n",
        "plt.show()"
      ]
    },
    {
      "cell_type": "code",
      "source": [
        "import numpy as np\n",
        "\n",
        "arr = np.array([1, 2, 3, 4])\n",
        "\n",
        "x = np.prod(arr)\n",
        "\n",
        "print(x)\n"
      ],
      "metadata": {
        "colab": {
          "base_uri": "https://localhost:8080/"
        },
        "id": "2CODpTe5V8Zx",
        "outputId": "6706a379-ae41-4119-ff6b-99521fa62311"
      },
      "execution_count": 5,
      "outputs": [
        {
          "output_type": "stream",
          "name": "stdout",
          "text": [
            "24\n"
          ]
        }
      ]
    },
    {
      "cell_type": "code",
      "source": [
        "from numpy import random\n",
        "\n",
        "x = random.normal(size=(3, 4))\n",
        "\n",
        "print(x)"
      ],
      "metadata": {
        "colab": {
          "base_uri": "https://localhost:8080/"
        },
        "id": "UlXptEpCKY0i",
        "outputId": "29c4b7ca-a081-4bc2-cbca-0d673903edb4"
      },
      "execution_count": 2,
      "outputs": [
        {
          "output_type": "stream",
          "name": "stdout",
          "text": [
            "[[-1.17493827  0.62053531  1.35378584 -0.7965543 ]\n",
            " [ 0.97875341 -0.04689405 -0.19461816  0.41188356]\n",
            " [-1.48055332 -0.91323423 -1.38589401 -0.41601602]]\n"
          ]
        }
      ]
    },
    {
      "cell_type": "code",
      "source": [
        "from numpy import random\n",
        "import numpy as np\n",
        "\n",
        "arr = np.array([10, 11, 12, 13, 14])\n",
        "\n",
        "random.shuffle(arr)\n",
        "\n",
        "print(arr)\n"
      ],
      "metadata": {
        "colab": {
          "base_uri": "https://localhost:8080/"
        },
        "id": "8XeGEU3LK0XQ",
        "outputId": "373cee50-c8e5-4107-bae3-c766482188cc"
      },
      "execution_count": 3,
      "outputs": [
        {
          "output_type": "stream",
          "name": "stdout",
          "text": [
            "[13 10 12 14 11]\n"
          ]
        }
      ]
    },
    {
      "cell_type": "code",
      "source": [
        "from numpy import random\n",
        "\n",
        "x = random.choice([3, 5, 7, 9], p=[0.1, 0.3, 0.6, 0.0], size=(100))\n",
        "\n",
        "print(x)"
      ],
      "metadata": {
        "colab": {
          "base_uri": "https://localhost:8080/"
        },
        "id": "Xt8LVZSuLXB-",
        "outputId": "7961263b-6797-48dc-ecfc-7a94093b1749"
      },
      "execution_count": 4,
      "outputs": [
        {
          "output_type": "stream",
          "name": "stdout",
          "text": [
            "[7 7 5 7 3 5 7 5 7 7 5 5 5 5 7 7 5 7 5 5 7 5 7 7 7 7 5 7 7 7 3 7 5 7 7 7 5\n",
            " 7 5 7 7 5 7 5 5 7 7 3 3 3 5 7 7 7 7 5 5 7 5 7 7 7 7 7 7 7 7 7 5 5 7 5 5 5\n",
            " 3 7 7 7 7 7 5 7 5 5 3 5 3 7 7 7 7 5 7 7 7 7 5 5 5 5]\n"
          ]
        }
      ]
    }
  ]
}